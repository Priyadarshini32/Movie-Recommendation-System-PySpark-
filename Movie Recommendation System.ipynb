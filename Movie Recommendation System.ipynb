{
 "cells": [
  {
   "cell_type": "markdown",
   "id": "c46d796f",
   "metadata": {
    "papermill": {
     "duration": 0.011111,
     "end_time": "2023-12-05T21:02:03.707990",
     "exception": false,
     "start_time": "2023-12-05T21:02:03.696879",
     "status": "completed"
    },
    "tags": []
   },
   "source": [
    " # **MOVIE RECOMMENDATION SYSTEM**"
   ]
  },
  {
   "cell_type": "markdown",
   "id": "c2ee592d",
   "metadata": {
    "papermill": {
     "duration": 0.011932,
     "end_time": "2023-12-05T21:02:03.731353",
     "exception": false,
     "start_time": "2023-12-05T21:02:03.719421",
     "status": "completed"
    },
    "tags": []
   },
   "source": [
    "# **1.** **SETUP SPARK SESSION AND LOADING DATA**"
   ]
  },
  {
   "cell_type": "code",
   "execution_count": 1,
   "id": "ee378856",
   "metadata": {
    "execution": {
     "iopub.execute_input": "2023-12-05T21:02:03.757088Z",
     "iopub.status.busy": "2023-12-05T21:02:03.756384Z",
     "iopub.status.idle": "2023-12-05T21:03:00.126468Z",
     "shell.execute_reply": "2023-12-05T21:03:00.124963Z"
    },
    "papermill": {
     "duration": 56.386039,
     "end_time": "2023-12-05T21:03:00.129008",
     "exception": false,
     "start_time": "2023-12-05T21:02:03.742969",
     "status": "completed"
    },
    "tags": []
   },
   "outputs": [
    {
     "name": "stdout",
     "output_type": "stream",
     "text": [
      "Collecting pyspark\r\n",
      "  Downloading pyspark-3.5.0.tar.gz (316.9 MB)\r\n",
      "\u001b[2K     \u001b[90m━━━━━━━━━━━━━━━━━━━━━━━━━━━━━━━━━━━━━━━\u001b[0m \u001b[32m316.9/316.9 MB\u001b[0m \u001b[31m3.3 MB/s\u001b[0m eta \u001b[36m0:00:00\u001b[0m\r\n",
      "\u001b[?25h  Preparing metadata (setup.py) ... \u001b[?25l-\b \b\\\b \bdone\r\n",
      "\u001b[?25hRequirement already satisfied: py4j==0.10.9.7 in /opt/conda/lib/python3.10/site-packages (from pyspark) (0.10.9.7)\r\n",
      "Building wheels for collected packages: pyspark\r\n",
      "  Building wheel for pyspark (setup.py) ... \u001b[?25l-\b \b\\\b \b|\b \bdone\r\n",
      "\u001b[?25h  Created wheel for pyspark: filename=pyspark-3.5.0-py2.py3-none-any.whl size=317425344 sha256=e927864a497d3907156c4d9afb5b4bece1ce65d1660e93f4a77dea6e36e19d2f\r\n",
      "  Stored in directory: /root/.cache/pip/wheels/41/4e/10/c2cf2467f71c678cfc8a6b9ac9241e5e44a01940da8fbb17fc\r\n",
      "Successfully built pyspark\r\n",
      "Installing collected packages: pyspark\r\n",
      "Successfully installed pyspark-3.5.0\r\n",
      "Note: you may need to restart the kernel to use updated packages.\n"
     ]
    }
   ],
   "source": [
    "pip install pyspark"
   ]
  },
  {
   "cell_type": "code",
   "execution_count": 2,
   "id": "7ae76dcb",
   "metadata": {
    "execution": {
     "iopub.execute_input": "2023-12-05T21:03:00.175849Z",
     "iopub.status.busy": "2023-12-05T21:03:00.175393Z",
     "iopub.status.idle": "2023-12-05T21:03:00.181719Z",
     "shell.execute_reply": "2023-12-05T21:03:00.180476Z"
    },
    "papermill": {
     "duration": 0.032605,
     "end_time": "2023-12-05T21:03:00.184017",
     "exception": false,
     "start_time": "2023-12-05T21:03:00.151412",
     "status": "completed"
    },
    "tags": []
   },
   "outputs": [],
   "source": [
    "# Check for active SparkContext\n",
    "if 'sc' in locals() or 'sc' in globals():\n",
    "    sc.stop()"
   ]
  },
  {
   "cell_type": "code",
   "execution_count": 3,
   "id": "a8313939",
   "metadata": {
    "execution": {
     "iopub.execute_input": "2023-12-05T21:03:00.232320Z",
     "iopub.status.busy": "2023-12-05T21:03:00.231040Z",
     "iopub.status.idle": "2023-12-05T21:03:14.004500Z",
     "shell.execute_reply": "2023-12-05T21:03:14.003080Z"
    },
    "papermill": {
     "duration": 13.802293,
     "end_time": "2023-12-05T21:03:14.009018",
     "exception": false,
     "start_time": "2023-12-05T21:03:00.206725",
     "status": "completed"
    },
    "tags": []
   },
   "outputs": [
    {
     "name": "stderr",
     "output_type": "stream",
     "text": [
      "Setting default log level to \"WARN\".\n",
      "To adjust logging level use sc.setLogLevel(newLevel). For SparkR, use setLogLevel(newLevel).\n",
      "23/12/05 21:03:04 WARN NativeCodeLoader: Unable to load native-hadoop library for your platform... using builtin-java classes where applicable\n",
      "                                                                                \r"
     ]
    }
   ],
   "source": [
    "import os\n",
    "from pyspark.sql import SparkSession\n",
    "\n",
    "# Define the Kaggle data directory\n",
    "kaggle_data_dir = \"/kaggle/input/movie-recommendation/ml-latest\"\n",
    "\n",
    "# Create a Spark session\n",
    "spark = SparkSession.builder.master(\"local\").appName(\"MovieRecommendation\").getOrCreate()\n",
    "\n",
    "# Read the ratings data\n",
    "ratings_df = spark.read.csv(os.path.join(kaggle_data_dir, \"ratings.csv\"), header=True)\n",
    "\n",
    "# Read the movies data\n",
    "movies_df = spark.read.csv(os.path.join(kaggle_data_dir, \"movies.csv\"), header=True)\n",
    "\n",
    "# Join the ratings and movies DataFrames using an inner join on the \"movieId\" column\n",
    "df = ratings_df.join(movies_df, on=\"movieId\", how=\"inner\")\n"
   ]
  },
  {
   "cell_type": "code",
   "execution_count": 4,
   "id": "e7d5053d",
   "metadata": {
    "execution": {
     "iopub.execute_input": "2023-12-05T21:03:14.063719Z",
     "iopub.status.busy": "2023-12-05T21:03:14.063283Z",
     "iopub.status.idle": "2023-12-05T21:03:16.718979Z",
     "shell.execute_reply": "2023-12-05T21:03:16.717795Z"
    },
    "papermill": {
     "duration": 2.683177,
     "end_time": "2023-12-05T21:03:16.722278",
     "exception": false,
     "start_time": "2023-12-05T21:03:14.039101",
     "status": "completed"
    },
    "tags": []
   },
   "outputs": [
    {
     "name": "stderr",
     "output_type": "stream",
     "text": [
      "                                                                                \r"
     ]
    },
    {
     "data": {
      "text/plain": [
       "Row(movieId='1', userId='1', rating='4.0', timestamp='1225734739', title='Toy Story (1995)', genres='Adventure|Animation|Children|Comedy|Fantasy')"
      ]
     },
     "execution_count": 4,
     "metadata": {},
     "output_type": "execute_result"
    }
   ],
   "source": [
    "df.head()"
   ]
  },
  {
   "cell_type": "code",
   "execution_count": 5,
   "id": "98231847",
   "metadata": {
    "execution": {
     "iopub.execute_input": "2023-12-05T21:03:16.791001Z",
     "iopub.status.busy": "2023-12-05T21:03:16.790009Z",
     "iopub.status.idle": "2023-12-05T21:03:16.800046Z",
     "shell.execute_reply": "2023-12-05T21:03:16.799017Z"
    },
    "papermill": {
     "duration": 0.048522,
     "end_time": "2023-12-05T21:03:16.803752",
     "exception": false,
     "start_time": "2023-12-05T21:03:16.755230",
     "status": "completed"
    },
    "tags": []
   },
   "outputs": [
    {
     "name": "stdout",
     "output_type": "stream",
     "text": [
      "root\n",
      " |-- movieId: string (nullable = true)\n",
      " |-- userId: string (nullable = true)\n",
      " |-- rating: string (nullable = true)\n",
      " |-- timestamp: string (nullable = true)\n",
      " |-- title: string (nullable = true)\n",
      " |-- genres: string (nullable = true)\n",
      "\n"
     ]
    }
   ],
   "source": [
    "df.printSchema()"
   ]
  },
  {
   "cell_type": "code",
   "execution_count": 6,
   "id": "6173d247",
   "metadata": {
    "execution": {
     "iopub.execute_input": "2023-12-05T21:03:16.871805Z",
     "iopub.status.busy": "2023-12-05T21:03:16.870786Z",
     "iopub.status.idle": "2023-12-05T21:03:17.842289Z",
     "shell.execute_reply": "2023-12-05T21:03:17.841173Z"
    },
    "papermill": {
     "duration": 1.009521,
     "end_time": "2023-12-05T21:03:17.845600",
     "exception": false,
     "start_time": "2023-12-05T21:03:16.836079",
     "status": "completed"
    },
    "tags": []
   },
   "outputs": [
    {
     "data": {
      "text/plain": [
       "[Row(movieId='1', userId='1', rating='4.0', timestamp='1225734739', title='Toy Story (1995)', genres='Adventure|Animation|Children|Comedy|Fantasy'),\n",
       " Row(movieId='110', userId='1', rating='4.0', timestamp='1225865086', title='Braveheart (1995)', genres='Action|Drama|War'),\n",
       " Row(movieId='158', userId='1', rating='4.0', timestamp='1225733503', title='Casper (1995)', genres='Adventure|Children'),\n",
       " Row(movieId='260', userId='1', rating='4.5', timestamp='1225735204', title='Star Wars: Episode IV - A New Hope (1977)', genres='Action|Adventure|Sci-Fi'),\n",
       " Row(movieId='356', userId='1', rating='5.0', timestamp='1225735119', title='Forrest Gump (1994)', genres='Comedy|Drama|Romance|War')]"
      ]
     },
     "execution_count": 6,
     "metadata": {},
     "output_type": "execute_result"
    }
   ],
   "source": [
    "df.head(5)"
   ]
  },
  {
   "cell_type": "markdown",
   "id": "4f46cffc",
   "metadata": {
    "papermill": {
     "duration": 0.051313,
     "end_time": "2023-12-05T21:03:17.932887",
     "exception": false,
     "start_time": "2023-12-05T21:03:17.881574",
     "status": "completed"
    },
    "tags": []
   },
   "source": [
    "# **2.** **DATA PRE-PROCESSING**"
   ]
  },
  {
   "cell_type": "code",
   "execution_count": 7,
   "id": "3620a253",
   "metadata": {
    "execution": {
     "iopub.execute_input": "2023-12-05T21:03:18.004469Z",
     "iopub.status.busy": "2023-12-05T21:03:18.003074Z",
     "iopub.status.idle": "2023-12-05T21:03:18.992881Z",
     "shell.execute_reply": "2023-12-05T21:03:18.991773Z"
    },
    "papermill": {
     "duration": 1.028064,
     "end_time": "2023-12-05T21:03:18.997101",
     "exception": false,
     "start_time": "2023-12-05T21:03:17.969037",
     "status": "completed"
    },
    "tags": []
   },
   "outputs": [
    {
     "name": "stderr",
     "output_type": "stream",
     "text": [
      "23/12/05 21:03:18 WARN SparkSession: Using an existing Spark session; only runtime SQL configurations will take effect.\n"
     ]
    },
    {
     "name": "stdout",
     "output_type": "stream",
     "text": [
      "+-------+------+------+----------+--------------------+--------------------+\n",
      "|movieId|userId|rating| timestamp|               title|              genres|\n",
      "+-------+------+------+----------+--------------------+--------------------+\n",
      "|      1|     1|   4.0|1225734739|    Toy Story (1995)|Adventure|Animati...|\n",
      "|    110|     1|   4.0|1225865086|   Braveheart (1995)|    Action|Drama|War|\n",
      "|    158|     1|   4.0|1225733503|       Casper (1995)|  Adventure|Children|\n",
      "|    260|     1|   4.5|1225735204|Star Wars: Episod...|Action|Adventure|...|\n",
      "|    356|     1|   5.0|1225735119| Forrest Gump (1994)|Comedy|Drama|Roma...|\n",
      "|    381|     1|   3.5|1225734105|When a Man Loves ...|       Drama|Romance|\n",
      "|    596|     1|   4.0|1225733524|    Pinocchio (1940)|Animation|Childre...|\n",
      "|   1036|     1|   5.0|1225735626|     Die Hard (1988)|Action|Crime|Thri...|\n",
      "|   1049|     1|   3.0|1225734079|Ghost and the Dar...|    Action|Adventure|\n",
      "|   1066|     1|   4.0|1225736961|Shall We Dance (1...|Comedy|Musical|Ro...|\n",
      "|   1196|     1|   3.5|1225735441|Star Wars: Episod...|Action|Adventure|...|\n",
      "|   1200|     1|   3.5|1225735861|       Aliens (1986)|Action|Adventure|...|\n",
      "|   1210|     1|   4.5|1225735210|Star Wars: Episod...|Action|Adventure|...|\n",
      "|   1214|     1|   4.0|1225736426|        Alien (1979)|       Horror|Sci-Fi|\n",
      "|   1291|     1|   5.0|1225734809|Indiana Jones and...|    Action|Adventure|\n",
      "|   1293|     1|   2.0|1225733842|       Gandhi (1982)|               Drama|\n",
      "|   1376|     1|   3.0|1225733539|Star Trek IV: The...|Adventure|Comedy|...|\n",
      "|   1396|     1|   3.0|1225733534|     Sneakers (1992)|Action|Comedy|Cri...|\n",
      "|   1537|     1|   4.0|1225736687|Shall We Dance? (...|Comedy|Drama|Romance|\n",
      "|   1909|     1|   3.0|1225733717|X-Files: Fight th...|Action|Crime|Myst...|\n",
      "+-------+------+------+----------+--------------------+--------------------+\n",
      "only showing top 20 rows\n",
      "\n"
     ]
    }
   ],
   "source": [
    "from pyspark.sql import SparkSession\n",
    "\n",
    "# Assuming 'your_data' is the DataFrame containing your movie data\n",
    "# Create a Spark session\n",
    "spark = SparkSession.builder.appName(\"TruncateDataset\").getOrCreate()\n",
    "\n",
    "# Assuming 'your_data' is your DataFrame\n",
    "data = df.limit(100000)\n",
    "\n",
    "# Show the first few rows of the truncated DataFrame\n",
    "data.show()\n"
   ]
  },
  {
   "cell_type": "code",
   "execution_count": 8,
   "id": "841eb376",
   "metadata": {
    "execution": {
     "iopub.execute_input": "2023-12-05T21:03:19.066127Z",
     "iopub.status.busy": "2023-12-05T21:03:19.065155Z",
     "iopub.status.idle": "2023-12-05T21:03:26.945617Z",
     "shell.execute_reply": "2023-12-05T21:03:26.944310Z"
    },
    "papermill": {
     "duration": 7.918854,
     "end_time": "2023-12-05T21:03:26.949230",
     "exception": false,
     "start_time": "2023-12-05T21:03:19.030376",
     "status": "completed"
    },
    "tags": []
   },
   "outputs": [
    {
     "name": "stderr",
     "output_type": "stream",
     "text": [
      "23/12/05 21:03:19 WARN SparkStringUtils: Truncated the string representation of a plan since it was too large. This behavior can be adjusted by setting 'spark.sql.debug.maxToStringFields'.\n",
      "[Stage 11:>                                                         (0 + 1) / 1]\r"
     ]
    },
    {
     "name": "stdout",
     "output_type": "stream",
     "text": [
      "+-------+-----------------+------------------+------------------+--------------------+--------------------+------------------+\n",
      "|summary|          movieId|            userId|            rating|           timestamp|               title|            genres|\n",
      "+-------+-----------------+------------------+------------------+--------------------+--------------------+------------------+\n",
      "|  count|           100000|            100000|            100000|              100000|              100000|            100000|\n",
      "|   mean|      29302.86026|         518.05957|          3.575805|  1.28295984354658E9|                NULL|              NULL|\n",
      "| stddev|50536.88807230559|302.10621026889964|1.0490052936453964|2.6066749111431932E8|                NULL|              NULL|\n",
      "|    min|                1|                 1|               0.5|          1000092143|\"\"\"Great Performa...|(no genres listed)|\n",
      "|    max|            99986|               999|               5.0|           999998185|À propos de Nice ...|           Western|\n",
      "+-------+-----------------+------------------+------------------+--------------------+--------------------+------------------+\n",
      "\n"
     ]
    },
    {
     "name": "stderr",
     "output_type": "stream",
     "text": [
      "                                                                                \r"
     ]
    }
   ],
   "source": [
    "data.describe().show()"
   ]
  },
  {
   "cell_type": "code",
   "execution_count": 9,
   "id": "97ce10fc",
   "metadata": {
    "execution": {
     "iopub.execute_input": "2023-12-05T21:03:27.024895Z",
     "iopub.status.busy": "2023-12-05T21:03:27.023978Z",
     "iopub.status.idle": "2023-12-05T21:03:27.053528Z",
     "shell.execute_reply": "2023-12-05T21:03:27.052354Z"
    },
    "papermill": {
     "duration": 0.070349,
     "end_time": "2023-12-05T21:03:27.057116",
     "exception": false,
     "start_time": "2023-12-05T21:03:26.986767",
     "status": "completed"
    },
    "tags": []
   },
   "outputs": [],
   "source": [
    "data_na = data.na.drop()"
   ]
  },
  {
   "cell_type": "code",
   "execution_count": 10,
   "id": "b15b174a",
   "metadata": {
    "execution": {
     "iopub.execute_input": "2023-12-05T21:03:27.182413Z",
     "iopub.status.busy": "2023-12-05T21:03:27.182010Z",
     "iopub.status.idle": "2023-12-05T21:03:27.228028Z",
     "shell.execute_reply": "2023-12-05T21:03:27.226820Z"
    },
    "papermill": {
     "duration": 0.146275,
     "end_time": "2023-12-05T21:03:27.231754",
     "exception": false,
     "start_time": "2023-12-05T21:03:27.085479",
     "status": "completed"
    },
    "tags": []
   },
   "outputs": [],
   "source": [
    "# Convert data types\n",
    "data = data.withColumn(\"rating\", data[\"rating\"].cast(\"float\"))\n"
   ]
  },
  {
   "cell_type": "code",
   "execution_count": 11,
   "id": "77d34f8a",
   "metadata": {
    "execution": {
     "iopub.execute_input": "2023-12-05T21:03:27.307929Z",
     "iopub.status.busy": "2023-12-05T21:03:27.307055Z",
     "iopub.status.idle": "2023-12-05T21:03:27.362395Z",
     "shell.execute_reply": "2023-12-05T21:03:27.361203Z"
    },
    "papermill": {
     "duration": 0.097434,
     "end_time": "2023-12-05T21:03:27.366001",
     "exception": false,
     "start_time": "2023-12-05T21:03:27.268567",
     "status": "completed"
    },
    "tags": []
   },
   "outputs": [],
   "source": [
    "from pyspark.sql.functions import col, regexp_extract\n",
    "\n",
    "# Extract year from title\n",
    "data = data.withColumn(\"year\", regexp_extract(col(\"title\"), \"\\((\\d{4})\\)\", 1).cast(\"int\"))\n"
   ]
  },
  {
   "cell_type": "code",
   "execution_count": 12,
   "id": "5cee03cd",
   "metadata": {
    "execution": {
     "iopub.execute_input": "2023-12-05T21:03:27.441628Z",
     "iopub.status.busy": "2023-12-05T21:03:27.441071Z",
     "iopub.status.idle": "2023-12-05T21:03:27.461017Z",
     "shell.execute_reply": "2023-12-05T21:03:27.459861Z"
    },
    "papermill": {
     "duration": 0.062251,
     "end_time": "2023-12-05T21:03:27.464730",
     "exception": false,
     "start_time": "2023-12-05T21:03:27.402479",
     "status": "completed"
    },
    "tags": []
   },
   "outputs": [],
   "source": [
    "# Drop unnecessary columns\n",
    "data = data.drop(\"timestamp\", \"genres\")\n"
   ]
  },
  {
   "cell_type": "code",
   "execution_count": 13,
   "id": "2399b762",
   "metadata": {
    "execution": {
     "iopub.execute_input": "2023-12-05T21:03:27.536341Z",
     "iopub.status.busy": "2023-12-05T21:03:27.535811Z",
     "iopub.status.idle": "2023-12-05T21:03:28.483401Z",
     "shell.execute_reply": "2023-12-05T21:03:28.482340Z"
    },
    "papermill": {
     "duration": 0.987691,
     "end_time": "2023-12-05T21:03:28.487490",
     "exception": false,
     "start_time": "2023-12-05T21:03:27.499799",
     "status": "completed"
    },
    "tags": []
   },
   "outputs": [
    {
     "name": "stdout",
     "output_type": "stream",
     "text": [
      "root\n",
      " |-- movieId: string (nullable = true)\n",
      " |-- userId: string (nullable = true)\n",
      " |-- rating: float (nullable = true)\n",
      " |-- title: string (nullable = true)\n",
      " |-- year: integer (nullable = true)\n",
      "\n",
      "+-------+------+------+--------------------+----+\n",
      "|movieId|userId|rating|               title|year|\n",
      "+-------+------+------+--------------------+----+\n",
      "|      1|     1|   4.0|    Toy Story (1995)|1995|\n",
      "|    110|     1|   4.0|   Braveheart (1995)|1995|\n",
      "|    158|     1|   4.0|       Casper (1995)|1995|\n",
      "|    260|     1|   4.5|Star Wars: Episod...|1977|\n",
      "|    356|     1|   5.0| Forrest Gump (1994)|1994|\n",
      "+-------+------+------+--------------------+----+\n",
      "only showing top 5 rows\n",
      "\n"
     ]
    }
   ],
   "source": [
    "# Print the DataFrame schema\n",
    "data.printSchema()\n",
    "\n",
    "# Show the first few rows of the DataFrame\n",
    "data.show(5)\n"
   ]
  },
  {
   "cell_type": "markdown",
   "id": "5403f142",
   "metadata": {
    "papermill": {
     "duration": 0.035756,
     "end_time": "2023-12-05T21:03:28.559501",
     "exception": false,
     "start_time": "2023-12-05T21:03:28.523745",
     "status": "completed"
    },
    "tags": []
   },
   "source": [
    "# **3. VISUALIZATION**"
   ]
  },
  {
   "cell_type": "code",
   "execution_count": 14,
   "id": "9a2d9d8c",
   "metadata": {
    "execution": {
     "iopub.execute_input": "2023-12-05T21:03:28.633650Z",
     "iopub.status.busy": "2023-12-05T21:03:28.633093Z",
     "iopub.status.idle": "2023-12-05T21:03:32.308342Z",
     "shell.execute_reply": "2023-12-05T21:03:32.307157Z"
    },
    "papermill": {
     "duration": 3.715203,
     "end_time": "2023-12-05T21:03:32.310899",
     "exception": false,
     "start_time": "2023-12-05T21:03:28.595696",
     "status": "completed"
    },
    "tags": []
   },
   "outputs": [
    {
     "name": "stderr",
     "output_type": "stream",
     "text": [
      "                                                                                \r"
     ]
    },
    {
     "data": {
      "image/png": "[encoded data removed]",
      "text/plain": [
       "<Figure size 1000x600 with 1 Axes>"
      ]
     },
     "metadata": {},
     "output_type": "display_data"
    }
   ],
   "source": [
    "import matplotlib.pyplot as plt\n",
    "\n",
    "# Convert rating column to float\n",
    "data = data.withColumn(\"rating\", data[\"rating\"].cast(\"float\"))\n",
    "\n",
    "# Extract ratings as a Pandas DataFrame\n",
    "ratings_pd = data.select(\"rating\").toPandas()\n",
    "\n",
    "# Plot User Ratings Distribution\n",
    "plt.figure(figsize=(10, 6))\n",
    "plt.hist(ratings_pd['rating'], bins=12, edgecolor='black', alpha=0.7)\n",
    "plt.title('User Ratings Distribution')\n",
    "plt.xlabel('Rating')\n",
    "plt.ylabel('Count')\n",
    "plt.show()\n"
   ]
  },
  {
   "cell_type": "code",
   "execution_count": 15,
   "id": "1bb2e543",
   "metadata": {
    "execution": {
     "iopub.execute_input": "2023-12-05T21:03:32.364149Z",
     "iopub.status.busy": "2023-12-05T21:03:32.363271Z",
     "iopub.status.idle": "2023-12-05T21:03:36.339526Z",
     "shell.execute_reply": "2023-12-05T21:03:36.338320Z"
    },
    "papermill": {
     "duration": 4.00579,
     "end_time": "2023-12-05T21:03:36.342063",
     "exception": false,
     "start_time": "2023-12-05T21:03:32.336273",
     "status": "completed"
    },
    "tags": []
   },
   "outputs": [
    {
     "name": "stderr",
     "output_type": "stream",
     "text": [
      "                                                                                \r"
     ]
    },
    {
     "data": {
      "image/png": "[encoded data removed]",
      "text/plain": [
       "<Figure size 1200x600 with 1 Axes>"
      ]
     },
     "metadata": {},
     "output_type": "display_data"
    }
   ],
   "source": [
    "# Extract movie ratings as a Pandas DataFrame\n",
    "movie_ratings_pd = data.groupBy(\"movieId\").avg(\"rating\").toPandas()\n",
    "\n",
    "# Plot Movie Ratings Distribution\n",
    "plt.figure(figsize=(12, 6))\n",
    "plt.hist(movie_ratings_pd['avg(rating)'], bins=30, edgecolor='black', alpha=0.7)\n",
    "plt.title('Movie Ratings Distribution')\n",
    "plt.xlabel('Average Rating')\n",
    "plt.ylabel('Count')\n",
    "plt.show()\n"
   ]
  },
  {
   "cell_type": "code",
   "execution_count": 16,
   "id": "16961619",
   "metadata": {
    "execution": {
     "iopub.execute_input": "2023-12-05T21:03:36.397451Z",
     "iopub.status.busy": "2023-12-05T21:03:36.397024Z",
     "iopub.status.idle": "2023-12-05T21:03:39.689738Z",
     "shell.execute_reply": "2023-12-05T21:03:39.688443Z"
    },
    "papermill": {
     "duration": 3.32442,
     "end_time": "2023-12-05T21:03:39.693497",
     "exception": false,
     "start_time": "2023-12-05T21:03:36.369077",
     "status": "completed"
    },
    "tags": []
   },
   "outputs": [
    {
     "name": "stderr",
     "output_type": "stream",
     "text": [
      "                                                                                \r"
     ]
    },
    {
     "data": {
      "image/png": "[encoded data removed]",
      "text/plain": [
       "<Figure size 1200x600 with 1 Axes>"
      ]
     },
     "metadata": {},
     "output_type": "display_data"
    }
   ],
   "source": [
    "# Extract user activity as a Pandas DataFrame\n",
    "user_activity_pd = data.groupBy(\"userId\").count().toPandas()\n",
    "\n",
    "# Plot User Activity\n",
    "plt.figure(figsize=(12, 6))\n",
    "plt.hist(user_activity_pd['count'], bins=50, edgecolor='black', alpha=0.7)\n",
    "plt.title('User Activity')\n",
    "plt.xlabel('Number of Ratings')\n",
    "plt.ylabel('Number of Users')\n",
    "plt.show()\n"
   ]
  },
  {
   "cell_type": "markdown",
   "id": "b47e833c",
   "metadata": {
    "papermill": {
     "duration": 0.028048,
     "end_time": "2023-12-05T21:03:39.750129",
     "exception": false,
     "start_time": "2023-12-05T21:03:39.722081",
     "status": "completed"
    },
    "tags": []
   },
   "source": [
    "# **4. COLLABORATIVE FILTER MODELLING**"
   ]
  },
  {
   "cell_type": "code",
   "execution_count": 17,
   "id": "712df8d2",
   "metadata": {
    "execution": {
     "iopub.execute_input": "2023-12-05T21:03:39.810491Z",
     "iopub.status.busy": "2023-12-05T21:03:39.810046Z",
     "iopub.status.idle": "2023-12-05T21:03:40.208295Z",
     "shell.execute_reply": "2023-12-05T21:03:40.207105Z"
    },
    "papermill": {
     "duration": 0.433374,
     "end_time": "2023-12-05T21:03:40.212375",
     "exception": false,
     "start_time": "2023-12-05T21:03:39.779001",
     "status": "completed"
    },
    "tags": []
   },
   "outputs": [],
   "source": [
    "from pyspark.ml.evaluation import RegressionEvaluator\n",
    "from pyspark.ml.tuning import TrainValidationSplit, ParamGridBuilder"
   ]
  },
  {
   "cell_type": "code",
   "execution_count": 18,
   "id": "c3540f2a",
   "metadata": {
    "execution": {
     "iopub.execute_input": "2023-12-05T21:03:40.270500Z",
     "iopub.status.busy": "2023-12-05T21:03:40.269637Z",
     "iopub.status.idle": "2023-12-05T21:04:23.971857Z",
     "shell.execute_reply": "2023-12-05T21:04:23.970636Z"
    },
    "papermill": {
     "duration": 43.735687,
     "end_time": "2023-12-05T21:04:23.976002",
     "exception": false,
     "start_time": "2023-12-05T21:03:40.240315",
     "status": "completed"
    },
    "tags": []
   },
   "outputs": [
    {
     "name": "stderr",
     "output_type": "stream",
     "text": [
      "23/12/05 21:04:14 WARN InstanceBuilder: Failed to load implementation from:dev.ludovic.netlib.blas.JNIBLAS\n",
      "23/12/05 21:04:15 WARN InstanceBuilder: Failed to load implementation from:dev.ludovic.netlib.lapack.JNILAPACK\n",
      "                                                                                \r"
     ]
    }
   ],
   "source": [
    "from pyspark.ml.recommendation import ALS\n",
    "from pyspark.ml.feature import StringIndexer\n",
    "\n",
    "# Assuming df is your preprocessed DataFrame\n",
    "(train_data, test_data) = data.randomSplit([0.8, 0.2], seed=42)\n",
    "\n",
    "# Indexing the \"userId\" column\n",
    "indexer_user = StringIndexer(inputCol=\"userId\", outputCol=\"numericUserId\")\n",
    "train_data = indexer_user.fit(train_data).transform(train_data)\n",
    "test_data = indexer_user.fit(test_data).transform(test_data)  # Apply the same transformation to test_data\n",
    "\n",
    "# Indexing the \"movieId\" column\n",
    "indexer_movie = StringIndexer(inputCol=\"movieId\", outputCol=\"numericMovieId\")\n",
    "train_data = indexer_movie.fit(train_data).transform(train_data)\n",
    "test_data = indexer_movie.fit(test_data).transform(test_data)  # Apply the same transformation to test_data\n",
    "\n",
    "# Create an ALS model\n",
    "als = ALS(userCol=\"numericUserId\", itemCol=\"numericMovieId\", ratingCol=\"rating\", coldStartStrategy=\"drop\")\n",
    "\n",
    "# Fit the model\n",
    "model = als.fit(train_data)\n",
    "\n",
    "# Make predictions on the test data\n",
    "predictions = model.transform(test_data)\n"
   ]
  },
  {
   "cell_type": "code",
   "execution_count": 19,
   "id": "8f8acbb8",
   "metadata": {
    "execution": {
     "iopub.execute_input": "2023-12-05T21:04:24.068413Z",
     "iopub.status.busy": "2023-12-05T21:04:24.067994Z",
     "iopub.status.idle": "2023-12-05T21:04:30.606393Z",
     "shell.execute_reply": "2023-12-05T21:04:30.605076Z"
    },
    "papermill": {
     "duration": 6.587317,
     "end_time": "2023-12-05T21:04:30.610174",
     "exception": false,
     "start_time": "2023-12-05T21:04:24.022857",
     "status": "completed"
    },
    "tags": []
   },
   "outputs": [
    {
     "name": "stderr",
     "output_type": "stream",
     "text": [
      "                                                                                \r"
     ]
    },
    {
     "name": "stdout",
     "output_type": "stream",
     "text": [
      "+-------+------+------+----------------+----+-------------+--------------+----------+\n",
      "|movieId|userId|rating|           title|year|numericUserId|numericMovieId|prediction|\n",
      "+-------+------+------+----------------+----+-------------+--------------+----------+\n",
      "|      1|  1000|   3.5|Toy Story (1995)|1995|        320.0|          36.0|  4.346814|\n",
      "|      1|  1010|   3.0|Toy Story (1995)|1995|        528.0|          36.0| 3.9259002|\n",
      "|      1|  1013|   3.0|Toy Story (1995)|1995|        490.0|          36.0| 4.5100193|\n",
      "|      1|  1025|   5.0|Toy Story (1995)|1995|        492.0|          36.0| 3.8465075|\n",
      "|      1|   112|   4.5|Toy Story (1995)|1995|        566.0|          36.0|  3.988811|\n",
      "|      1|   135|   3.0|Toy Story (1995)|1995|        363.0|          36.0|  4.538728|\n",
      "|      1|   170|   5.0|Toy Story (1995)|1995|        131.0|          36.0|  3.947177|\n",
      "|      1|   187|   2.0|Toy Story (1995)|1995|        191.0|          36.0|  3.106883|\n",
      "|      1|    21|   3.0|Toy Story (1995)|1995|         79.0|          36.0| 3.6874437|\n",
      "|      1|   210|   5.0|Toy Story (1995)|1995|         49.0|          36.0| 3.9517384|\n",
      "|      1|   212|   4.0|Toy Story (1995)|1995|        124.0|          36.0| 3.5615423|\n",
      "|      1|   221|   4.0|Toy Story (1995)|1995|        306.0|          36.0|  4.151518|\n",
      "|      1|   226|   4.5|Toy Story (1995)|1995|         46.0|          36.0| 3.6548095|\n",
      "|      1|    24|   4.5|Toy Story (1995)|1995|         26.0|          36.0| 3.0647001|\n",
      "|      1|   291|   4.0|Toy Story (1995)|1995|        630.0|          36.0| 3.5761435|\n",
      "|      1|   314|   4.0|Toy Story (1995)|1995|        412.0|          36.0|  2.902968|\n",
      "|      1|   336|   5.0|Toy Story (1995)|1995|        704.0|          36.0| 3.5737753|\n",
      "|      1|   446|   4.0|Toy Story (1995)|1995|        415.0|          36.0|  4.427848|\n",
      "|      1|   473|   3.0|Toy Story (1995)|1995|        446.0|          36.0| 3.8400745|\n",
      "|      1|   479|   2.0|Toy Story (1995)|1995|        478.0|          36.0|  4.418441|\n",
      "+-------+------+------+----------------+----+-------------+--------------+----------+\n",
      "only showing top 20 rows\n",
      "\n"
     ]
    }
   ],
   "source": [
    "predictions.show()"
   ]
  },
  {
   "cell_type": "markdown",
   "id": "bf7ecb57",
   "metadata": {
    "papermill": {
     "duration": 0.04141,
     "end_time": "2023-12-05T21:04:30.699607",
     "exception": false,
     "start_time": "2023-12-05T21:04:30.658197",
     "status": "completed"
    },
    "tags": []
   },
   "source": [
    "# **5. MODEL EVALUATION**"
   ]
  },
  {
   "cell_type": "code",
   "execution_count": 20,
   "id": "78f045df",
   "metadata": {
    "execution": {
     "iopub.execute_input": "2023-12-05T21:04:30.768780Z",
     "iopub.status.busy": "2023-12-05T21:04:30.768378Z",
     "iopub.status.idle": "2023-12-05T21:04:37.345141Z",
     "shell.execute_reply": "2023-12-05T21:04:37.344023Z"
    },
    "papermill": {
     "duration": 6.614558,
     "end_time": "2023-12-05T21:04:37.347600",
     "exception": false,
     "start_time": "2023-12-05T21:04:30.733042",
     "status": "completed"
    },
    "tags": []
   },
   "outputs": [
    {
     "name": "stderr",
     "output_type": "stream",
     "text": [
      "                                                                                \r"
     ]
    },
    {
     "data": {
      "image/png": "[encoded data removed]",
      "text/plain": [
       "<Figure size 1200x600 with 1 Axes>"
      ]
     },
     "metadata": {},
     "output_type": "display_data"
    }
   ],
   "source": [
    "# Extract prediction results as a Pandas DataFrame\n",
    "predictions_pd = predictions.select(\"rating\", \"prediction\").toPandas()\n",
    "\n",
    "# Plot Rating Prediction Distribution\n",
    "plt.figure(figsize=(12, 6))\n",
    "plt.scatter(predictions_pd['rating'], predictions_pd['prediction'], alpha=0.3)\n",
    "plt.title('Rating Prediction Distribution')\n",
    "plt.xlabel('Actual Rating')\n",
    "plt.ylabel('Predicted Rating')\n",
    "plt.show()\n"
   ]
  },
  {
   "cell_type": "code",
   "execution_count": 21,
   "id": "d4871621",
   "metadata": {
    "execution": {
     "iopub.execute_input": "2023-12-05T21:04:37.423581Z",
     "iopub.status.busy": "2023-12-05T21:04:37.422577Z",
     "iopub.status.idle": "2023-12-05T21:04:43.393144Z",
     "shell.execute_reply": "2023-12-05T21:04:43.391818Z"
    },
    "papermill": {
     "duration": 6.012476,
     "end_time": "2023-12-05T21:04:43.397574",
     "exception": false,
     "start_time": "2023-12-05T21:04:37.385098",
     "status": "completed"
    },
    "tags": []
   },
   "outputs": [
    {
     "name": "stderr",
     "output_type": "stream",
     "text": [
      "[Stage 228:================================================>        (6 + 1) / 7]\r"
     ]
    },
    {
     "name": "stdout",
     "output_type": "stream",
     "text": [
      "Root-mean-square error = 1.2548138301087546\n"
     ]
    },
    {
     "name": "stderr",
     "output_type": "stream",
     "text": [
      "                                                                                \r"
     ]
    }
   ],
   "source": [
    "evaluator = RegressionEvaluator(metricName=\"rmse\", labelCol=\"rating\",predictionCol=\"prediction\")\n",
    "rmse = evaluator.evaluate(predictions)\n",
    "print(\"Root-mean-square error = \" + str(rmse))"
   ]
  },
  {
   "cell_type": "code",
   "execution_count": 22,
   "id": "4c070903",
   "metadata": {
    "execution": {
     "iopub.execute_input": "2023-12-05T21:04:43.498077Z",
     "iopub.status.busy": "2023-12-05T21:04:43.497553Z",
     "iopub.status.idle": "2023-12-05T21:04:49.573417Z",
     "shell.execute_reply": "2023-12-05T21:04:49.571918Z"
    },
    "papermill": {
     "duration": 6.124077,
     "end_time": "2023-12-05T21:04:49.576695",
     "exception": false,
     "start_time": "2023-12-05T21:04:43.452618",
     "status": "completed"
    },
    "tags": []
   },
   "outputs": [
    {
     "name": "stderr",
     "output_type": "stream",
     "text": [
      "[Stage 263:================================================>        (6 + 1) / 7]\r"
     ]
    },
    {
     "name": "stdout",
     "output_type": "stream",
     "text": [
      "Mean Absolute Error (MAE): 1.0019\n"
     ]
    },
    {
     "name": "stderr",
     "output_type": "stream",
     "text": [
      "                                                                                \r"
     ]
    }
   ],
   "source": [
    "from pyspark.ml.evaluation import RegressionEvaluator\n",
    "\n",
    "# Evaluate the model using MAE\n",
    "evaluator_mae = RegressionEvaluator(metricName=\"mae\", labelCol=\"rating\", predictionCol=\"prediction\")\n",
    "mae = evaluator_mae.evaluate(predictions)\n",
    "\n",
    "print(\"Mean Absolute Error (MAE): {:.4f}\".format(mae))\n"
   ]
  },
  {
   "cell_type": "code",
   "execution_count": 23,
   "id": "1dff52cd",
   "metadata": {
    "execution": {
     "iopub.execute_input": "2023-12-05T21:04:49.656262Z",
     "iopub.status.busy": "2023-12-05T21:04:49.655524Z",
     "iopub.status.idle": "2023-12-05T21:04:58.911008Z",
     "shell.execute_reply": "2023-12-05T21:04:58.909270Z"
    },
    "papermill": {
     "duration": 9.300643,
     "end_time": "2023-12-05T21:04:58.914937",
     "exception": false,
     "start_time": "2023-12-05T21:04:49.614294",
     "status": "completed"
    },
    "tags": []
   },
   "outputs": [
    {
     "name": "stderr",
     "output_type": "stream",
     "text": [
      "[Stage 302:================================================>        (6 + 1) / 7]\r"
     ]
    },
    {
     "name": "stdout",
     "output_type": "stream",
     "text": [
      "Coverage of Recommendations: 49.05%\n"
     ]
    },
    {
     "name": "stderr",
     "output_type": "stream",
     "text": [
      "                                                                                \r"
     ]
    }
   ],
   "source": [
    "# Calculate the coverage of recommendations\n",
    "unique_movies = predictions.select(\"movieId\").distinct().count()\n",
    "total_movies = data.select(\"movieId\").distinct().count()\n",
    "coverage = (unique_movies / total_movies) * 100\n",
    "\n",
    "print(\"Coverage of Recommendations: {:.2f}%\".format(coverage))\n"
   ]
  },
  {
   "cell_type": "markdown",
   "id": "97119e39",
   "metadata": {
    "papermill": {
     "duration": 0.055432,
     "end_time": "2023-12-05T21:04:59.029075",
     "exception": false,
     "start_time": "2023-12-05T21:04:58.973643",
     "status": "completed"
    },
    "tags": []
   },
   "source": [
    "# **6. INDIVIDUAL USER RECOMMENDATIONS**"
   ]
  },
  {
   "cell_type": "code",
   "execution_count": 24,
   "id": "fd2c30a0",
   "metadata": {
    "execution": {
     "iopub.execute_input": "2023-12-05T21:04:59.109124Z",
     "iopub.status.busy": "2023-12-05T21:04:59.108599Z",
     "iopub.status.idle": "2023-12-05T21:05:03.977087Z",
     "shell.execute_reply": "2023-12-05T21:05:03.975571Z"
    },
    "papermill": {
     "duration": 4.911978,
     "end_time": "2023-12-05T21:05:03.980100",
     "exception": false,
     "start_time": "2023-12-05T21:04:59.068122",
     "status": "completed"
    },
    "tags": []
   },
   "outputs": [
    {
     "name": "stderr",
     "output_type": "stream",
     "text": [
      "                                                                                \r"
     ]
    },
    {
     "name": "stdout",
     "output_type": "stream",
     "text": [
      "+-------+--------------------+------+------+\n",
      "|movieId|               title|userId|rating|\n",
      "+-------+--------------------+------+------+\n",
      "|    653|  Dragonheart (1996)|    12|   3.0|\n",
      "|    733|    Rock, The (1996)|    12|   5.0|\n",
      "|    849|Escape from L.A. ...|    12|   4.0|\n",
      "|    879|   Relic, The (1997)|    12|   4.0|\n",
      "|    990| Maximum Risk (1996)|    12|   5.0|\n",
      "|   1498|Inventing the Abb...|    12|   5.0|\n",
      "+-------+--------------------+------+------+\n",
      "\n"
     ]
    }
   ],
   "source": [
    "single_user = test_data.filter(test_data['userId'] == 12).select(['movieId', 'userId', 'rating'])\n",
    "\n",
    "# Join with movies_df to get movie names\n",
    "single_user_with_names_and_ratings = single_user.join(movies_df, on=\"movieId\", how=\"inner\").select(\"movieId\", \"title\", \"userId\", \"rating\")\n",
    "\n",
    "# Display the result\n",
    "single_user_with_names_and_ratings.show()\n"
   ]
  },
  {
   "cell_type": "markdown",
   "id": "cea030a6",
   "metadata": {
    "papermill": {
     "duration": 0.040116,
     "end_time": "2023-12-05T21:05:04.063426",
     "exception": false,
     "start_time": "2023-12-05T21:05:04.023310",
     "status": "completed"
    },
    "tags": []
   },
   "source": [
    "# **7. TOP RECOMMENDED MOVIES**"
   ]
  },
  {
   "cell_type": "code",
   "execution_count": 25,
   "id": "92b22cd6",
   "metadata": {
    "execution": {
     "iopub.execute_input": "2023-12-05T21:05:04.146841Z",
     "iopub.status.busy": "2023-12-05T21:05:04.145548Z",
     "iopub.status.idle": "2023-12-05T21:05:04.524114Z",
     "shell.execute_reply": "2023-12-05T21:05:04.522955Z"
    },
    "papermill": {
     "duration": 0.424394,
     "end_time": "2023-12-05T21:05:04.527396",
     "exception": false,
     "start_time": "2023-12-05T21:05:04.103002",
     "status": "completed"
    },
    "tags": []
   },
   "outputs": [],
   "source": [
    "\n",
    "\n",
    "import matplotlib.pyplot as plt\n",
    "import pandas as pd\n",
    "from pyspark.sql import SparkSession\n",
    "from pyspark.sql.functions import col, explode\n",
    "\n",
    "# Replace 'user_id_to_recommend' with the actual user ID\n",
    "user_id_to_recommend = 3\n",
    "\n",
    "# Get top-N recommendations for a specific user\n",
    "top_n_recommendations = model.recommendForUserSubset(test_data.filter(test_data['userId'] == user_id_to_recommend), 5)\n",
    "\n"
   ]
  },
  {
   "cell_type": "code",
   "execution_count": 26,
   "id": "ad895d28",
   "metadata": {
    "execution": {
     "iopub.execute_input": "2023-12-05T21:05:04.641183Z",
     "iopub.status.busy": "2023-12-05T21:05:04.640792Z",
     "iopub.status.idle": "2023-12-05T21:05:14.664694Z",
     "shell.execute_reply": "2023-12-05T21:05:14.663353Z"
    },
    "papermill": {
     "duration": 10.083646,
     "end_time": "2023-12-05T21:05:14.668680",
     "exception": false,
     "start_time": "2023-12-05T21:05:04.585034",
     "status": "completed"
    },
    "tags": []
   },
   "outputs": [
    {
     "name": "stderr",
     "output_type": "stream",
     "text": [
      "23/12/05 21:05:04 WARN SparkSession: Using an existing Spark session; only runtime SQL configurations will take effect.\n",
      "[Stage 341:==================================================>   (93 + 1) / 100]\r"
     ]
    },
    {
     "name": "stdout",
     "output_type": "stream",
     "text": [
      "root\n",
      " |-- movieId: integer (nullable = true)\n",
      " |-- title: string (nullable = true)\n",
      " |-- genres: string (nullable = true)\n",
      "\n"
     ]
    },
    {
     "name": "stderr",
     "output_type": "stream",
     "text": [
      "                                                                                \r"
     ]
    }
   ],
   "source": [
    "# Explode the recommendations array to individual rows\n",
    "exploded_recommendations = top_n_recommendations.select(\n",
    "    col(\"numericUserId\"),\n",
    "    explode(col(\"recommendations\")).alias(\"recommendation\")\n",
    ")\n",
    "\n",
    "# Extract movieId and rating from the exploded column\n",
    "recommendations_data = exploded_recommendations.select(\n",
    "    col(\"recommendation.numericMovieId\").alias(\"movieId\"),\n",
    "    col(\"recommendation.rating\").alias(\"rating\")\n",
    ")\n",
    "# Create a Spark DataFrame from the recommendations data\n",
    "spark = SparkSession.builder.appName(\"example\").getOrCreate()\n",
    "\n",
    "movies_data = spark.read.csv(\"/kaggle/input/movie-recommendation/ml-latest/movies.csv\", header=True, inferSchema=True)\n",
    "\n",
    "spark_recommendations = recommendations_data.join(movies_data.select(\"movieId\", \"title\"), on=\"movieId\", how=\"inner\")\n",
    "\n",
    "# Convert to Pandas DataFrame for plotting\n",
    "pandas_data = spark_recommendations.toPandas()\n",
    "\n",
    "movies_data.printSchema()"
   ]
  },
  {
   "cell_type": "code",
   "execution_count": 27,
   "id": "eaec161c",
   "metadata": {
    "execution": {
     "iopub.execute_input": "2023-12-05T21:05:14.795060Z",
     "iopub.status.busy": "2023-12-05T21:05:14.794028Z",
     "iopub.status.idle": "2023-12-05T21:05:15.142366Z",
     "shell.execute_reply": "2023-12-05T21:05:15.141037Z"
    },
    "papermill": {
     "duration": 0.413937,
     "end_time": "2023-12-05T21:05:15.145014",
     "exception": false,
     "start_time": "2023-12-05T21:05:14.731077",
     "status": "completed"
    },
    "tags": []
   },
   "outputs": [
    {
     "data": {
      "image/png": "[encoded data removed]",
      "text/plain": [
       "<Figure size 1200x600 with 1 Axes>"
      ]
     },
     "metadata": {},
     "output_type": "display_data"
    }
   ],
   "source": [
    "# Plot the bar graph\n",
    "plt.figure(figsize=(12, 6))\n",
    "plt.bar(pandas_data['title'], pandas_data['rating'], color='skyblue')\n",
    "plt.title(f'Top Recommended Movies for User {user_id_to_recommend}')\n",
    "plt.xlabel('Movie Title')\n",
    "plt.ylabel('Rating')\n",
    "plt.xticks(rotation=45, ha='right')  # Rotate x-axis labels for better readability\n",
    "plt.show()\n"
   ]
  }
 ],
 "metadata": {
  "kaggle": {
   "accelerator": "none",
   "dataSources": [
    {
     "datasetId": 4108733,
     "sourceId": 7123005,
     "sourceType": "datasetVersion"
    }
   ],
   "dockerImageVersionId": 30587,
   "isGpuEnabled": false,
   "isInternetEnabled": true,
   "language": "python",
   "sourceType": "notebook"
  },
  "kernelspec": {
   "display_name": "Python 3",
   "language": "python",
   "name": "python3"
  },
  "language_info": {
   "codemirror_mode": {
    "name": "ipython",
    "version": 3
   },
   "file_extension": ".py",
   "mimetype": "text/x-python",
   "name": "python",
   "nbconvert_exporter": "python",
   "pygments_lexer": "ipython3",
   "version": "3.10.12"
  },
  "papermill": {
   "default_parameters": {},
   "duration": 197.903003,
   "end_time": "2023-12-05T21:05:17.811477",
   "environment_variables": {},
   "exception": null,
   "input_path": "__notebook__.ipynb",
   "output_path": "__notebook__.ipynb",
   "parameters": {},
   "start_time": "2023-12-05T21:01:59.908474",
   "version": "2.4.0"
  }
 },
 "nbformat": 4,
 "nbformat_minor": 5
}
